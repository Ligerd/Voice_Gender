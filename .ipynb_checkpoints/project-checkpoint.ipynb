{
 "cells": [
  {
   "cell_type": "markdown",
   "metadata": {
    "collapsed": true,
    "pycharm": {
     "is_executing": false,
     "name": "#%% md\n"
    }
   },
   "source": [
    "\n",
    "# Gender Recognition by Voice and Speech Analysis\n"
   ]
  },
  {
   "cell_type": "markdown",
   "metadata": {
    "pycharm": {
     "name": "#%% md\n"
    }
   },
   "source": [
    "\n",
    "## 1. Wprowadzenie"
   ]
  },
  {
   "cell_type": "markdown",
   "metadata": {
    "pycharm": {
     "name": "#%% md\n"
    }
   },
   "source": [
    "Celem projektu jest identyfikacja głosu jako mężczyzny lub kobiety, w oparciu o właściwości akustyczne głosu i mowy.\n",
    "Zbiór danych który zostanie użyty w projekcie składa się z 3168 zarejestrowanych próbek głosu, zebranych od mówców płci męskiej i żeńskiej.\n",
    "Próbki głosu są wstępnie przetwarzane przez analizę akustyczną w R przy użyciu pakietów seewave i tuneR, z analizowanym zakresem częstotliwości od 0 do 280 Hz (ludzki zakres wokalny).\n"
   ]
  },
  {
   "cell_type": "markdown",
   "metadata": {
    "pycharm": {
     "name": "#%% md\n"
    }
   },
   "source": [
    "\n",
    "## 2. Jedziemy w temacie\n"
   ]
  },
  {
   "cell_type": "code",
   "execution_count": 6,
   "metadata": {
    "pycharm": {
     "name": "#%%\n"
    }
   },
   "outputs": [],
   "source": [
    "import numpy as np\n",
    "import pandas as pd\n",
    "import seaborn as sns\n",
    "import matplotlib.pyplot as plt\n",
    "import cv2"
   ]
  },
  {
   "cell_type": "markdown",
   "metadata": {
    "pycharm": {
     "name": "#%% md\n"
    }
   },
   "source": [
    "\n"
   ]
  },
  {
   "cell_type": "code",
   "execution_count": 7,
   "metadata": {
    "pycharm": {
     "name": "#%%\n"
    }
   },
   "outputs": [
    {
     "name": "stdout",
     "output_type": "stream",
     "text": [
      "   meanfreq        sd    median       Q25       Q75       IQR       skew  \\\n",
      "0  0.059781  0.064241  0.032027  0.015071  0.090193  0.075122  12.863462   \n",
      "1  0.066009  0.067310  0.040229  0.019414  0.092666  0.073252  22.423285   \n",
      "2  0.077316  0.083829  0.036718  0.008701  0.131908  0.123207  30.757155   \n",
      "3  0.151228  0.072111  0.158011  0.096582  0.207955  0.111374   1.232831   \n",
      "4  0.135120  0.079146  0.124656  0.078720  0.206045  0.127325   1.101174   \n",
      "\n",
      "          kurt    sp.ent       sfm  ...  centroid   meanfun    minfun  \\\n",
      "0   274.402906  0.893369  0.491918  ...  0.059781  0.084279  0.015702   \n",
      "1   634.613855  0.892193  0.513724  ...  0.066009  0.107937  0.015826   \n",
      "2  1024.927705  0.846389  0.478905  ...  0.077316  0.098706  0.015656   \n",
      "3     4.177296  0.963322  0.727232  ...  0.151228  0.088965  0.017798   \n",
      "4     4.333713  0.971955  0.783568  ...  0.135120  0.106398  0.016931   \n",
      "\n",
      "     maxfun   meandom    mindom    maxdom   dfrange   modindx  label  \n",
      "0  0.275862  0.007812  0.007812  0.007812  0.000000  0.000000   male  \n",
      "1  0.250000  0.009014  0.007812  0.054688  0.046875  0.052632   male  \n",
      "2  0.271186  0.007990  0.007812  0.015625  0.007812  0.046512   male  \n",
      "3  0.250000  0.201497  0.007812  0.562500  0.554688  0.247119   male  \n",
      "4  0.266667  0.712812  0.007812  5.484375  5.476562  0.208274   male  \n",
      "\n",
      "[5 rows x 21 columns]\n",
      "      meanfreq        sd    median       Q25       Q75       IQR      skew  \\\n",
      "3163  0.131884  0.084734  0.153707  0.049285  0.201144  0.151859  1.762129   \n",
      "3164  0.116221  0.089221  0.076758  0.042718  0.204911  0.162193  0.693730   \n",
      "3165  0.142056  0.095798  0.183731  0.033424  0.224360  0.190936  1.876502   \n",
      "3166  0.143659  0.090628  0.184976  0.043508  0.219943  0.176435  1.591065   \n",
      "3167  0.165509  0.092884  0.183044  0.070072  0.250827  0.180756  1.705029   \n",
      "\n",
      "          kurt    sp.ent       sfm  ...  centroid   meanfun    minfun  \\\n",
      "3163  6.630383  0.962934  0.763182  ...  0.131884  0.182790  0.083770   \n",
      "3164  2.503954  0.960716  0.709570  ...  0.116221  0.188980  0.034409   \n",
      "3165  6.604509  0.946854  0.654196  ...  0.142056  0.209918  0.039506   \n",
      "3166  5.388298  0.950436  0.675470  ...  0.143659  0.172375  0.034483   \n",
      "3167  5.769115  0.938829  0.601529  ...  0.165509  0.185607  0.062257   \n",
      "\n",
      "        maxfun   meandom    mindom    maxdom   dfrange   modindx   label  \n",
      "3163  0.262295  0.832899  0.007812  4.210938  4.203125  0.161929  female  \n",
      "3164  0.275862  0.909856  0.039062  3.679688  3.640625  0.277897  female  \n",
      "3165  0.275862  0.494271  0.007812  2.937500  2.929688  0.194759  female  \n",
      "3166  0.250000  0.791360  0.007812  3.593750  3.585938  0.311002  female  \n",
      "3167  0.271186  0.227022  0.007812  0.554688  0.546875  0.350000  female  \n",
      "\n",
      "[5 rows x 21 columns]\n"
     ]
    }
   ],
   "source": [
    "dane= pd.read_csv('voice.csv')\n",
    "print(dane.head())\n",
    "print(dane.tail())"
   ]
  },
  {
   "cell_type": "markdown",
   "metadata": {},
   "source": []
  }
 ],
 "metadata": {
  "kernelspec": {
   "display_name": "Python 3",
   "language": "python",
   "name": "python3"
  },
  "language_info": {
   "codemirror_mode": {
    "name": "ipython",
    "version": 3
   },
   "file_extension": ".py",
   "mimetype": "text/x-python",
   "name": "python",
   "nbconvert_exporter": "python",
   "pygments_lexer": "ipython3",
   "version": "3.6.7"
  },
  "pycharm": {
   "stem_cell": {
    "cell_type": "raw",
    "metadata": {
     "collapsed": false
    },
    "source": []
   }
  }
 },
 "nbformat": 4,
 "nbformat_minor": 1
}
